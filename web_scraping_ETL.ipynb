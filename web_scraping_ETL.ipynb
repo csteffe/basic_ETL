{
 "cells": [
  {
   "cell_type": "code",
   "execution_count": 51,
   "id": "bd1c6d24-b15b-4e0e-b7c2-0a117c538e14",
   "metadata": {},
   "outputs": [
    {
     "data": {
      "text/html": [
       "<div>\n",
       "<style scoped>\n",
       "    .dataframe tbody tr th:only-of-type {\n",
       "        vertical-align: middle;\n",
       "    }\n",
       "\n",
       "    .dataframe tbody tr th {\n",
       "        vertical-align: top;\n",
       "    }\n",
       "\n",
       "    .dataframe thead th {\n",
       "        text-align: right;\n",
       "    }\n",
       "</style>\n",
       "<table border=\"1\" class=\"dataframe\">\n",
       "  <thead>\n",
       "    <tr style=\"text-align: right;\">\n",
       "      <th></th>\n",
       "      <th>Name</th>\n",
       "      <th>Market Cap (US$ Billion)</th>\n",
       "    </tr>\n",
       "  </thead>\n",
       "  <tbody>\n",
       "    <tr>\n",
       "      <th>0</th>\n",
       "      <td>JPMorgan Chase</td>\n",
       "      <td>400.37</td>\n",
       "    </tr>\n",
       "    <tr>\n",
       "      <th>1</th>\n",
       "      <td>Industrial and Commercial Bank of China</td>\n",
       "      <td>295.65</td>\n",
       "    </tr>\n",
       "    <tr>\n",
       "      <th>2</th>\n",
       "      <td>Bank of America</td>\n",
       "      <td>279.73</td>\n",
       "    </tr>\n",
       "    <tr>\n",
       "      <th>3</th>\n",
       "      <td>Wells Fargo</td>\n",
       "      <td>214.34</td>\n",
       "    </tr>\n",
       "    <tr>\n",
       "      <th>4</th>\n",
       "      <td>China Construction Bank</td>\n",
       "      <td>207.98</td>\n",
       "    </tr>\n",
       "  </tbody>\n",
       "</table>\n",
       "</div>"
      ],
      "text/plain": [
       "                                      Name  Market Cap (US$ Billion)\n",
       "0                           JPMorgan Chase                    400.37\n",
       "1  Industrial and Commercial Bank of China                    295.65\n",
       "2                          Bank of America                    279.73\n",
       "3                              Wells Fargo                    214.34\n",
       "4                  China Construction Bank                    207.98"
      ]
     },
     "execution_count": 51,
     "metadata": {},
     "output_type": "execute_result"
    }
   ],
   "source": [
    "# install libraries\n",
    "#!mamba install pandas==1.3.3 -y\n",
    "#!mamba install requests==2.26.0 -y\n",
    "#!mamba install bs4==4.10.0 -y\n",
    "#!mamba install html5lib==1.1 -y\n",
    "\n",
    "# get exchange rates from dataset\n",
    "#!wget https://cf-courses-data.s3.us.cloud-object-storage.appdomain.cloud/IBMDeveloperSkillsNetwork-PY0221EN-SkillsNetwork/labs/module%206/Final%20Assignment/exchange_rates.csv\n",
    "\n",
    "\n",
    "import glob\n",
    "import pandas as pd\n",
    "from datetime import datetime\n",
    "from bs4 import BeautifulSoup\n",
    "import html5lib\n",
    "import requests\n",
    "import pandas as pd\n",
    "import re\n",
    "\n",
    "# gather content from webpage\n",
    "html_data=requests.get(\"https://en.wikipedia.org/wiki/List_of_largest_banks?utm_medium=Exinfluencer&utm_source=Exinfluencer&utm_content=000026UJ&utm_term=10006555&utm_id=NA-SkillsNetwork-Channel-SkillsNetworkCoursesIBMDeveloperSkillsNetworkPY0221ENSkillsNetwork23455645-2022-01-01\").text\n",
    "\n",
    "# parse content with BeautifulSoup\n",
    "soup=BeautifulSoup(html_data)\n",
    "\n",
    "\n",
    "# define column names and create empty data farme\n",
    "\n",
    "\n",
    "def extract():\n",
    "    data = pd.DataFrame(columns=[\"Name\", \"Market Cap (US$ Billion)\"])\n",
    "    for row in soup.find_all('tbody')[3].find_all('tr'):\n",
    "        col = row.find_all('td')\n",
    "        if (col != []):\n",
    "            name = col[1].text.strip()\n",
    "            market_cap = col[2].text.strip()\n",
    "            market_cap = float(re.sub(\"[[@*&?].*[]@*&?]\", \"\", market_cap)) # remove references\n",
    "\n",
    "            data = data.append({\"Name\":name, \"Market Cap (US$ Billion)\":market_cap}, ignore_index=True)\n",
    "    return data\n",
    "\n",
    "# call function extract with the json file\n",
    "data_bank = extract()\n",
    "\n",
    "# display 5 first rows\n",
    "data_bank.head()\n",
    "\n"
   ]
  },
  {
   "cell_type": "code",
   "execution_count": 52,
   "id": "e4f773b7-541e-4a23-9f61-5824d59b01b6",
   "metadata": {},
   "outputs": [
    {
     "name": "stdout",
     "output_type": "stream",
     "text": [
      "        Rates\n",
      "AUD  1.297088\n",
      "BGN  1.608653\n",
      "BRL  5.409196\n",
      "CAD  1.271426\n",
      "CHF  0.886083\n"
     ]
    }
   ],
   "source": [
    "# read data about exchange rate\n",
    "exchange_data = pd.read_csv(\"exchange_rates.csv\",index_col = 0)\n",
    "\n",
    "# look at first columns\n",
    "print(exchange_data.head())\n",
    "\n",
    "# find exchange rate for british pound\n",
    "exchange = exchange_data[exchange_data.index==\"GBP\"].iloc[0,0]\n",
    "\n",
    "\n",
    "\n"
   ]
  },
  {
   "cell_type": "code",
   "execution_count": 53,
   "id": "1a5e0e8c-71ff-4a66-b0fb-744da8140f6b",
   "metadata": {},
   "outputs": [],
   "source": [
    "# transform function\n",
    "\n",
    "def transform(data):\n",
    "    # convert market cap in $ to pound\n",
    "    data['Market Cap (US$ Billion)'] = round(data['Market Cap (US$ Billion)'] * exchange, 2)\n",
    "    data = data.rename(columns={'Market Cap (US$ Billion)': 'Market Cap (GBP$ Billion)'})\n",
    "\n",
    "    return data"
   ]
  },
  {
   "cell_type": "code",
   "execution_count": 39,
   "id": "a5d40a38-7137-4e01-b903-c20fb3af5c1d",
   "metadata": {},
   "outputs": [],
   "source": [
    "# load function\n",
    "\n",
    "def load(targetfile, data_to_load):\n",
    "    data_to_load.to_csv(targetfile, index = False)\n",
    "\n",
    "targetfile =\"bank_market_cap_gbp.csv\""
   ]
  },
  {
   "cell_type": "code",
   "execution_count": 54,
   "id": "40ce9f2c-2256-4480-9b73-80421cc292ca",
   "metadata": {},
   "outputs": [],
   "source": [
    "# function to write logs at each step\n",
    "\n",
    "def log(message):\n",
    "    timestamp_format ='%Y-%h-%d-%H:%M:%S'\n",
    "    now = datetime.now()\n",
    "    timestamp = now.strftime(timestamp_format)\n",
    "    with open(\"logfile.txt\", \"a\") as f:\n",
    "        f.write(timestamp + ',' + message + '\\n' )"
   ]
  },
  {
   "cell_type": "code",
   "execution_count": 55,
   "id": "2d6baef3-174c-4747-8f76-b005ab76515a",
   "metadata": {},
   "outputs": [],
   "source": [
    "# run the ETL process\n",
    "\n",
    "log (\"ETL Job Started\")\n",
    "\n",
    "log (\"Extract phase Started\")\n",
    "\n",
    "extracted_data = extract()\n",
    "\n",
    "\n",
    "log(\"Extract phase Ended\")\n",
    "\n",
    "log(\"Transform phase Started\")\n",
    "\n",
    "transformed_data = transform(extracted_data)\n",
    "\n",
    "log(\"Transform phase Ended\")\n",
    "\n",
    "log(\"Load phase Started\")\n",
    "\n",
    "load(targetfile, transformed_data)\n",
    "\n",
    "log(\"Load phase Ended\")\n",
    "\n"
   ]
  }
 ],
 "metadata": {
  "kernelspec": {
   "display_name": "Python",
   "language": "python",
   "name": "conda-env-python-py"
  },
  "language_info": {
   "codemirror_mode": {
    "name": "ipython",
    "version": 3
   },
   "file_extension": ".py",
   "mimetype": "text/x-python",
   "name": "python",
   "nbconvert_exporter": "python",
   "pygments_lexer": "ipython3",
   "version": "3.7.12"
  }
 },
 "nbformat": 4,
 "nbformat_minor": 5
}
